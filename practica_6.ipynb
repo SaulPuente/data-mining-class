{
 "cells": [
  {
   "cell_type": "code",
   "execution_count": 1,
   "id": "b4ce689d-7305-466f-a547-9963d8fb589a",
   "metadata": {},
   "outputs": [],
   "source": [
    "import matplotlib.pyplot as plt\n",
    "import statsmodels.api as sm\n",
    "import numbers\n",
    "import pandas as pd\n",
    "from tabulate import tabulate"
   ]
  },
  {
   "cell_type": "code",
   "execution_count": 2,
   "id": "738c4345",
   "metadata": {},
   "outputs": [],
   "source": [
    "def print_tabulate(df: pd.DataFrame):\n",
    "    print(tabulate(df, headers=df.columns, tablefmt=\"orgtbl\"))"
   ]
  },
  {
   "cell_type": "code",
   "execution_count": 3,
   "id": "b8fa6de2",
   "metadata": {},
   "outputs": [],
   "source": [
    "def transform_variable(df: pd.DataFrame, x:str)->pd.Series:\n",
    "    if isinstance(df[x][0], numbers.Number):\n",
    "        return df[x] # type: pd.Series\n",
    "    else:\n",
    "        return pd.Series([i for i in range(0, len(df[x]))])"
   ]
  },
  {
   "cell_type": "code",
   "execution_count": 4,
   "id": "15525f80",
   "metadata": {},
   "outputs": [],
   "source": [
    "def linear_regression(df: pd.DataFrame, x:str, y: str)->None:\n",
    "    fixed_x = transform_variable(df, x)\n",
    "    model= sm.OLS(df[y],sm.add_constant(fixed_x)).fit()\n",
    "    print(model.summary())\n",
    "\n",
    "    coef = pd.read_html(model.summary().tables[1].as_html(),header=0,index_col=0)[0]['coef']\n",
    "    df.plot(x=x,y=y, kind='scatter')\n",
    "    plt.plot(df[x],[pd.DataFrame.mean(df[y]) for _ in fixed_x.items()], color='green')\n",
    "    plt.plot(df_by_consumo[x],[ coef.values[1] * x + coef.values[0] for _, x in fixed_x.items()], color='red')\n",
    "    plt.xticks(rotation=90)\n",
    "    plt.savefig(f'images/lr_{y}_{x}.png')\n",
    "    plt.show()\n",
    "    plt.close()"
   ]
  },
  {
   "cell_type": "code",
   "execution_count": 5,
   "id": "c2fc20e7",
   "metadata": {},
   "outputs": [
    {
     "name": "stdout",
     "output_type": "stream",
     "text": [
      "|    |   Periodo |   consumo_anual |\n",
      "|----+-----------+-----------------|\n",
      "|  0 |      2010 |     1.86639e+11 |\n",
      "|  1 |      2011 |     2.00946e+11 |\n",
      "|  2 |      2012 |     2.0648e+11  |\n",
      "|  3 |      2013 |     2.0613e+11  |\n",
      "|  4 |      2014 |     2.08015e+11 |\n"
     ]
    },
    {
     "name": "stderr",
     "output_type": "stream",
     "text": [
      "C:\\Users\\saulp\\anaconda3\\lib\\site-packages\\statsmodels\\tsa\\tsatools.py:142: FutureWarning: In a future version of pandas all arguments of concat except for the argument 'objs' will be keyword-only\n",
      "  x = pd.concat(x[::order], 1)\n",
      "C:\\Users\\saulp\\anaconda3\\lib\\site-packages\\scipy\\stats\\stats.py:1541: UserWarning: kurtosistest only valid for n>=20 ... continuing anyway, n=8\n",
      "  warnings.warn(\"kurtosistest only valid for n>=20 ... continuing \"\n",
      "C:\\Users\\saulp\\anaconda3\\lib\\site-packages\\scipy\\stats\\stats.py:1541: UserWarning: kurtosistest only valid for n>=20 ... continuing anyway, n=8\n",
      "  warnings.warn(\"kurtosistest only valid for n>=20 ... continuing \"\n"
     ]
    },
    {
     "name": "stdout",
     "output_type": "stream",
     "text": [
      "                            OLS Regression Results                            \n",
      "==============================================================================\n",
      "Dep. Variable:          consumo_anual   R-squared:                       0.827\n",
      "Model:                            OLS   Adj. R-squared:                  0.798\n",
      "Method:                 Least Squares   F-statistic:                     28.64\n",
      "Date:                Thu, 19 Oct 2023   Prob (F-statistic):            0.00174\n",
      "Time:                        19:25:32   Log-Likelihood:                -187.84\n",
      "No. Observations:                   8   AIC:                             379.7\n",
      "Df Residuals:                       6   BIC:                             379.8\n",
      "Df Model:                           1                                         \n",
      "Covariance Type:            nonrobust                                         \n",
      "==============================================================================\n",
      "                 coef    std err          t      P>|t|      [0.025      0.975]\n",
      "------------------------------------------------------------------------------\n",
      "const      -7.113e+12   1.37e+12     -5.200      0.002   -1.05e+13   -3.77e+12\n",
      "Periodo     3.635e+09   6.79e+08      5.352      0.002    1.97e+09     5.3e+09\n",
      "==============================================================================\n",
      "Omnibus:                        1.212   Durbin-Watson:                   1.571\n",
      "Prob(Omnibus):                  0.545   Jarque-Bera (JB):                0.634\n",
      "Skew:                          -0.629   Prob(JB):                        0.728\n",
      "Kurtosis:                       2.434   Cond. No.                     1.77e+06\n",
      "==============================================================================\n",
      "\n",
      "Notes:\n",
      "[1] Standard Errors assume that the covariance matrix of the errors is correctly specified.\n",
      "[2] The condition number is large, 1.77e+06. This might indicate that there are\n",
      "strong multicollinearity or other numerical problems.\n"
     ]
    },
    {
     "data": {
      "image/png": "[encoded data removed]",
      "text/plain": [
       "<Figure size 432x288 with 1 Axes>"
      ]
     },
     "metadata": {
      "needs_background": "light"
     },
     "output_type": "display_data"
    }
   ],
   "source": [
    "df = pd.read_csv(\"data/Usuariosyconsumodeelectricidadpormunicipio_clean.csv\", dtype={\n",
    "    'Cve_Edo': 'string',\n",
    "    'Cve_Inegi': 'string',\n",
    "    'Cve_Mun': 'string',\n",
    "    'Estado': 'string',\n",
    "    'Municipio': 'string',\n",
    "    'Tarifa': 'string',\n",
    "    'Periodo': 'int64',\n",
    "    'Usuarios': 'int64',\n",
    "    'Consumo': 'float64',\n",
    "    'ISO': 'string'\n",
    "})\n",
    "\n",
    "df_by_consumo = df.loc[(df[\"Estado\"] == \"Nacional\") & (df[\"Municipio\"] != \"Total Estatal\") & (df[\"Tarifa\"] == \"TOTAL\")]\\\n",
    "                .groupby(\"Periodo\").aggregate(consumo_anual=pd.NamedAgg(column=\"Consumo\", aggfunc=pd.DataFrame.mean))\n",
    "# df_by_sal[\"sueldo_mensual\"] = df_by_sal[\"sueldo_mensual\"]**10\n",
    "df_by_consumo.reset_index(inplace=True)\n",
    "print_tabulate(df_by_consumo.head())\n",
    "linear_regression(df_by_consumo, \"Periodo\", \"consumo_anual\")"
   ]
  },
  {
   "cell_type": "code",
   "execution_count": null,
   "id": "af8f78d7",
   "metadata": {},
   "outputs": [],
   "source": []
  }
 ],
 "metadata": {
  "kernelspec": {
   "display_name": "Python 3 (ipykernel)",
   "language": "python",
   "name": "python3"
  },
  "language_info": {
   "codemirror_mode": {
    "name": "ipython",
    "version": 3
   },
   "file_extension": ".py",
   "mimetype": "text/x-python",
   "name": "python",
   "nbconvert_exporter": "python",
   "pygments_lexer": "ipython3",
   "version": "3.8.8"
  }
 },
 "nbformat": 4,
 "nbformat_minor": 5
}
