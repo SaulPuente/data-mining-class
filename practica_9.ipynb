{
 "cells": [
  {
   "cell_type": "code",
   "execution_count": 113,
   "id": "5717753a",
   "metadata": {},
   "outputs": [],
   "source": [
    "import matplotlib.pyplot as plt\n",
    "import statsmodels.api as sm\n",
    "import numbers\n",
    "import pandas as pd\n",
    "from tabulate import tabulate\n",
    "from statsmodels.stats.outliers_influence import summary_table\n",
    "from typing import Tuple, Dict\n",
    "import numpy as np"
   ]
  },
  {
   "cell_type": "code",
   "execution_count": 114,
   "id": "f5f6d6c6",
   "metadata": {},
   "outputs": [],
   "source": [
    "df = pd.read_csv(\"data/Usuariosyconsumodeelectricidadpormunicipio_clean.csv\", dtype={\n",
    "    'Cve_Edo': 'string',\n",
    "    'Cve_Inegi': 'string',\n",
    "    'Cve_Mun': 'string',\n",
    "    'Estado': 'string',\n",
    "    'Municipio': 'string',\n",
    "    'Tarifa': 'string',\n",
    "    'Periodo': 'string',\n",
    "    'Usuarios': 'int64',\n",
    "    'Consumo': 'float64',\n",
    "    'ISO': 'string'\n",
    "})"
   ]
  },
  {
   "cell_type": "code",
   "execution_count": 115,
   "id": "2f556a99",
   "metadata": {},
   "outputs": [],
   "source": [
    "def print_tabulate(df: pd.DataFrame):\n",
    "    print(tabulate(df, headers=df.columns, tablefmt=\"orgtbl\"))"
   ]
  },
  {
   "cell_type": "code",
   "execution_count": 116,
   "id": "062c2315",
   "metadata": {},
   "outputs": [],
   "source": [
    "def transform_variable(df: pd.DataFrame, x:str)->pd.Series:\n",
    "    if isinstance(df[x][0], numbers.Number):\n",
    "        return df[x] # type: pd.Series\n",
    "    else:\n",
    "        return pd.Series([i for i in range(0, len(df[x]))])"
   ]
  },
  {
   "cell_type": "code",
   "execution_count": 117,
   "id": "476604ab",
   "metadata": {},
   "outputs": [],
   "source": [
    "def linear_regression(df: pd.DataFrame, x:str, y: str)->Dict[str, float]:\n",
    "    fixed_x = transform_variable(df, x)\n",
    "    model= sm.OLS(df[y],sm.add_constant(fixed_x)).fit()\n",
    "    bands = pd.read_html(model.summary().tables[1].as_html(),header=0,index_col=0)[0]\n",
    "    #print(bands['[0.025'])\n",
    "    #print(bands['0.975]'])\n",
    "    print_tabulate(pd.read_html(model.summary().tables[1].as_html(),header=0,index_col=0)[0])\n",
    "    coef = pd.read_html(model.summary().tables[1].as_html(),header=0,index_col=0)[0]['coef']\n",
    "    r_2_t = pd.read_html(model.summary().tables[0].as_html(),header=None,index_col=None)[0]\n",
    "    return {'m': coef.values[1], 'b': coef.values[0], 'r2': r_2_t.values[0][3], 'r2_adj': r_2_t.values[1][3], 'low_band': bands['[0.025'][0], 'hi_band': bands['0.975]'][0]}"
   ]
  },
  {
   "cell_type": "code",
   "execution_count": 118,
   "id": "07d33ff1",
   "metadata": {},
   "outputs": [],
   "source": [
    "def plt_lr(df: pd.DataFrame, x:str, y: str, m: float, b: float, r2: float, r2_adj: float, low_band: float, hi_band: float, colors: Tuple[str,str]):\n",
    "    fixed_x = transform_variable(df, x)\n",
    "    df.plot(x=x,y=y, kind='scatter')\n",
    "    #print(df[[x,y]])\n",
    "    plt.plot(df[x],[ m * x + b for _, x in fixed_x.items()], color=colors[0])\n",
    "    #print([ m * x + b for _, x in fixed_x.items()])\n",
    "    #print(fixed_x.items())\n",
    "    plt.fill_between(df[x],\n",
    "                     [ m * x  + low_band for _, x in fixed_x.items()],\n",
    "                     [ m * x + hi_band for _, x in fixed_x.items()], alpha=0.2, color=colors[1])"
   ]
  },
  {
   "cell_type": "code",
   "execution_count": 119,
   "id": "ec2dc39b",
   "metadata": {},
   "outputs": [
    {
     "name": "stderr",
     "output_type": "stream",
     "text": [
      "C:\\Users\\saulp\\anaconda3\\lib\\site-packages\\statsmodels\\tsa\\tsatools.py:142: FutureWarning: In a future version of pandas all arguments of concat except for the argument 'objs' will be keyword-only\n",
      "  x = pd.concat(x[::order], 1)\n",
      "C:\\Users\\saulp\\anaconda3\\lib\\site-packages\\scipy\\stats\\stats.py:1541: UserWarning: kurtosistest only valid for n>=20 ... continuing anyway, n=8\n",
      "  warnings.warn(\"kurtosistest only valid for n>=20 ... continuing \"\n",
      "C:\\Users\\saulp\\anaconda3\\lib\\site-packages\\scipy\\stats\\stats.py:1541: UserWarning: kurtosistest only valid for n>=20 ... continuing anyway, n=8\n",
      "  warnings.warn(\"kurtosistest only valid for n>=20 ... continuing \"\n"
     ]
    },
    {
     "name": "stdout",
     "output_type": "stream",
     "text": [
      "|       |      coef |   std err |      t |   P>|t| |   [0.025 |   0.975] |\n",
      "|-------+-----------+-----------+--------+---------+----------+----------|\n",
      "| const | 1.94e+11  |  2.84e+09 | 68.268 |   0     | 1.87e+11 | 2.01e+11 |\n",
      "| 0     | 3.635e+09 |  6.79e+08 |  5.352 |   0.002 | 1.97e+09 | 5.3e+09  |\n"
     ]
    },
    {
     "data": {
      "image/png": "[encoded data removed]",
      "text/plain": [
       "<Figure size 432x288 with 1 Axes>"
      ]
     },
     "metadata": {
      "needs_background": "light"
     },
     "output_type": "display_data"
    }
   ],
   "source": [
    "#df = pd.read_csv(\"csv/typed_uanl.csv\") # type: pd.DataFrame\n",
    "#print_tabulate(df.head(50))\n",
    "df_by_con = df.loc[(df[\"Estado\"] == \"Nacional\") & (df[\"Municipio\"] != \"Total Estatal\") & (df[\"Tarifa\"] == \"TOTAL\")]\\\n",
    "                .groupby(\"Periodo\").aggregate(consumo_anual=pd.NamedAgg(column=\"Consumo\", aggfunc=pd.DataFrame.mean))\n",
    "#df_by_con[\"consumo_anual\"] = df_by_con[\"consumo_anual\"] / df_by_con[\"consumo_anual\"].max()\n",
    "df_by_con.reset_index(inplace=True)\n",
    "#normalized_df=(df_by_con-df_by_con.mean())/df_by_con.std()\n",
    "# df_by_sal[\"sueldo_mensual\"] = df_by_sal[\"sueldo_mensual\"]**10\n",
    "#print_tabulate(df_by_sal.head(5))\n",
    "a = linear_regression(df_by_con, \"Periodo\", \"consumo_anual\")\n",
    "#print(a)\n",
    "plt_lr(df=df_by_con, x=\"Periodo\", y=\"consumo_anual\", colors=('red', 'orange'), **a)\n",
    "\n",
    "plt.xticks(rotation=90)\n",
    "plt.savefig('images/lr_consumo_anual.png')\n",
    "plt.show()\n",
    "plt.close()"
   ]
  },
  {
   "cell_type": "code",
   "execution_count": null,
   "id": "b1a772b2",
   "metadata": {},
   "outputs": [],
   "source": []
  }
 ],
 "metadata": {
  "kernelspec": {
   "display_name": "Python 3 (ipykernel)",
   "language": "python",
   "name": "python3"
  },
  "language_info": {
   "codemirror_mode": {
    "name": "ipython",
    "version": 3
   },
   "file_extension": ".py",
   "mimetype": "text/x-python",
   "name": "python",
   "nbconvert_exporter": "python",
   "pygments_lexer": "ipython3",
   "version": "3.8.8"
  }
 },
 "nbformat": 4,
 "nbformat_minor": 5
}
