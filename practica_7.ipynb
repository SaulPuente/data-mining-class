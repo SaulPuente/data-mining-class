{
 "cells": [
  {
   "cell_type": "code",
   "execution_count": 1,
   "id": "1b6f9fff-d58f-4e2b-a852-1ab690b0b36e",
   "metadata": {},
   "outputs": [],
   "source": [
    "import pandas as pd\n",
    "from tabulate import tabulate\n",
    "import matplotlib.pyplot as plt\n",
    "from typing import Tuple, Dict, List\n",
    "import numpy as np\n",
    "from functools import reduce\n",
    "from scipy.stats import mode"
   ]
  },
  {
   "cell_type": "code",
   "execution_count": 2,
   "id": "1db73f8d-81e7-4ac8-be69-404bc3e8c350",
   "metadata": {},
   "outputs": [],
   "source": [
    "df_uyc = pd.read_csv(\"data/Usuariosyconsumodeelectricidadpormunicipio_clean.csv\", dtype={\n",
    "    'Cve_Edo': 'string',\n",
    "    'Cve_Inegi': 'string',\n",
    "    'Cve_Mun': 'string',\n",
    "    'Estado': 'string',\n",
    "    'Municipio': 'string',\n",
    "    'Tarifa': 'string',\n",
    "    'Periodo': 'int64',\n",
    "    'Usuarios': 'int64',\n",
    "    'Consumo': 'float64',\n",
    "    'ISO': 'string'\n",
    "})"
   ]
  },
  {
   "cell_type": "code",
   "execution_count": 3,
   "id": "0ea326ef-7f33-440e-a5a0-7fd7105ff8fe",
   "metadata": {},
   "outputs": [],
   "source": [
    "def print_tabulate(df: pd.DataFrame):\n",
    "    print(tabulate(df, headers=df.columns, tablefmt=\"orgtbl\"))"
   ]
  },
  {
   "cell_type": "code",
   "execution_count": 4,
   "id": "e03cfa92-79ee-4803-b12f-4070aeef78b7",
   "metadata": {},
   "outputs": [],
   "source": [
    "def normalize_distribution(dist: np.array, n: int) -> np.array:\n",
    "    b = dist - min(dist) + 0.000001\n",
    "    c = (b / np.sum(b)) * n\n",
    "    return np.round(c)"
   ]
  },
  {
   "cell_type": "code",
   "execution_count": 5,
   "id": "0a444b22-a109-4637-9f2d-8d13c115548d",
   "metadata": {},
   "outputs": [],
   "source": [
    "def create_distribution(mean: float, size: int) -> pd.Series:\n",
    "    return normalize_distribution(np.random.standard_normal(size), mean * size)"
   ]
  },
  {
   "cell_type": "code",
   "execution_count": 6,
   "id": "ee87cce5-9a84-413c-848f-325f7203ad13",
   "metadata": {},
   "outputs": [],
   "source": [
    "def generate_df(means: List[Tuple[float, float, str]], n: int) -> pd.DataFrame:\n",
    "    lists = [\n",
    "        (create_distribution(_x, n), create_distribution(_y, n), np.repeat(_l, n))\n",
    "        for _x, _y, _l in means\n",
    "    ]\n",
    "    x = np.array([])\n",
    "    y = np.array([])\n",
    "    labels = np.array([])\n",
    "    for _x, _y, _l in lists:\n",
    "        x = np.concatenate((x, _x), axis=None)\n",
    "        y = np.concatenate((y, _y))\n",
    "        labels = np.concatenate((labels, _l))\n",
    "    return pd.DataFrame({\"x\": x, \"y\": y, \"label\": labels})"
   ]
  },
  {
   "cell_type": "code",
   "execution_count": 7,
   "id": "a44c08df-f209-4a36-a66b-34754bc1f8a7",
   "metadata": {},
   "outputs": [],
   "source": [
    "def get_cmap(n, name=\"hsv\"):\n",
    "    \"\"\"Returns a function that maps each index in 0, 1, ..., n-1 to a distinct\n",
    "    RGB color; the keyword argument name must be a standard mpl colormap name.\"\"\"\n",
    "    return plt.cm.get_cmap(name, n)"
   ]
  },
  {
   "cell_type": "code",
   "execution_count": 8,
   "id": "74f6ad48-db58-4053-a13b-4f2397408adb",
   "metadata": {},
   "outputs": [],
   "source": [
    "def scatter_group_by(\n",
    "    file_path: str, df: pd.DataFrame, x_column: str, y_column: str, label_column: str\n",
    "):\n",
    "    fig, ax = plt.subplots()\n",
    "    labels = pd.unique(df[label_column])\n",
    "    cmap = get_cmap(len(labels) + 1)\n",
    "    for i, label in enumerate(labels):\n",
    "        filter_df = df.query(f\"{label_column} == '{label}'\")\n",
    "        ax.scatter(filter_df[x_column], filter_df[y_column], label=label, color=cmap(i))\n",
    "    ax.legend()\n",
    "    plt.savefig(file_path)\n",
    "    plt.close()"
   ]
  },
  {
   "cell_type": "code",
   "execution_count": 9,
   "id": "32681afa-dddf-49d5-9d4a-4a8ffc6743e0",
   "metadata": {},
   "outputs": [],
   "source": [
    "def euclidean_distance(p_1: np.array, p_2: np.array) -> float:\n",
    "    return np.sqrt(np.sum((p_2 - p_1) ** 2))"
   ]
  },
  {
   "cell_type": "code",
   "execution_count": 10,
   "id": "61037995-136a-4f16-8dce-97f6b7448e8d",
   "metadata": {},
   "outputs": [],
   "source": [
    "def k_nearest_neightbors(\n",
    "    points: List[np.array], labels: np.array, input_data: List[np.array], k: int\n",
    "):\n",
    "    input_distances = [\n",
    "        [euclidean_distance(input_point, point) for point in points]\n",
    "        for input_point in input_data\n",
    "    ]\n",
    "    points_k_nearest = [\n",
    "        np.argsort(input_point_dist)[:k] for input_point_dist in input_distances\n",
    "    ]\n",
    "    return [\n",
    "        mode([labels[index] for index in point_nearest])\n",
    "        for point_nearest in points_k_nearest\n",
    "    ]"
   ]
  },
  {
   "cell_type": "code",
   "execution_count": 12,
   "id": "5a270f3a-10ff-4b7c-b73d-6476bc6d63ba",
   "metadata": {},
   "outputs": [
    {
     "name": "stdout",
     "output_type": "stream",
     "text": [
      "[ModeResult(mode=array(['grupo2'], dtype='<U6'), count=array([3])), ModeResult(mode=array(['grupo1'], dtype='<U6'), count=array([3])), ModeResult(mode=array(['grupo3'], dtype='<U6'), count=array([4])), ModeResult(mode=array(['grupo2'], dtype='<U6'), count=array([4]))]\n"
     ]
    }
   ],
   "source": [
    "groups = [(20, 20, \"grupo1\"), (80, 40, \"grupo2\"), (200, 200, \"grupo3\")]\n",
    "df = generate_df(groups, 50)\n",
    "scatter_group_by(\"images/groups.png\", df, \"x\", \"y\", \"label\")\n",
    "list_t = [\n",
    "    (np.array(tuples[0:1]), tuples[2])\n",
    "    for tuples in df.itertuples(index=False, name=None)\n",
    "]\n",
    "points = [point for point, _ in list_t]\n",
    "labels = [label for _, label in list_t]\n",
    "\n",
    "kn = k_nearest_neightbors(\n",
    "    points,\n",
    "    labels,\n",
    "    [np.array([100, 150]), np.array([1, 1]), np.array([1, 300]), np.array([80, 40])],\n",
    "    5,\n",
    ")\n",
    "print(kn)"
   ]
  },
  {
   "cell_type": "code",
   "execution_count": 13,
   "id": "dae29507-ddda-4200-9ce4-1b93392767a3",
   "metadata": {},
   "outputs": [
    {
     "data": {
      "text/html": [
       "<div>\n",
       "<style scoped>\n",
       "    .dataframe tbody tr th:only-of-type {\n",
       "        vertical-align: middle;\n",
       "    }\n",
       "\n",
       "    .dataframe tbody tr th {\n",
       "        vertical-align: top;\n",
       "    }\n",
       "\n",
       "    .dataframe thead th {\n",
       "        text-align: right;\n",
       "    }\n",
       "</style>\n",
       "<table border=\"1\" class=\"dataframe\">\n",
       "  <thead>\n",
       "    <tr style=\"text-align: right;\">\n",
       "      <th></th>\n",
       "      <th>x</th>\n",
       "      <th>y</th>\n",
       "      <th>label</th>\n",
       "    </tr>\n",
       "  </thead>\n",
       "  <tbody>\n",
       "    <tr>\n",
       "      <th>0</th>\n",
       "      <td>28.0</td>\n",
       "      <td>27.0</td>\n",
       "      <td>grupo1</td>\n",
       "    </tr>\n",
       "    <tr>\n",
       "      <th>1</th>\n",
       "      <td>13.0</td>\n",
       "      <td>2.0</td>\n",
       "      <td>grupo1</td>\n",
       "    </tr>\n",
       "    <tr>\n",
       "      <th>2</th>\n",
       "      <td>20.0</td>\n",
       "      <td>31.0</td>\n",
       "      <td>grupo1</td>\n",
       "    </tr>\n",
       "    <tr>\n",
       "      <th>3</th>\n",
       "      <td>18.0</td>\n",
       "      <td>32.0</td>\n",
       "      <td>grupo1</td>\n",
       "    </tr>\n",
       "    <tr>\n",
       "      <th>4</th>\n",
       "      <td>18.0</td>\n",
       "      <td>25.0</td>\n",
       "      <td>grupo1</td>\n",
       "    </tr>\n",
       "  </tbody>\n",
       "</table>\n",
       "</div>"
      ],
      "text/plain": [
       "      x     y   label\n",
       "0  28.0  27.0  grupo1\n",
       "1  13.0   2.0  grupo1\n",
       "2  20.0  31.0  grupo1\n",
       "3  18.0  32.0  grupo1\n",
       "4  18.0  25.0  grupo1"
      ]
     },
     "execution_count": 13,
     "metadata": {},
     "output_type": "execute_result"
    }
   ],
   "source": [
    "df.head()"
   ]
  },
  {
   "cell_type": "code",
   "execution_count": null,
   "id": "209fa762-347f-4d85-bee8-ea1887b7f58b",
   "metadata": {},
   "outputs": [],
   "source": []
  }
 ],
 "metadata": {
  "kernelspec": {
   "display_name": "Python 3 (ipykernel)",
   "language": "python",
   "name": "python3"
  },
  "language_info": {
   "codemirror_mode": {
    "name": "ipython",
    "version": 3
   },
   "file_extension": ".py",
   "mimetype": "text/x-python",
   "name": "python",
   "nbconvert_exporter": "python",
   "pygments_lexer": "ipython3",
   "version": "3.8.8"
  }
 },
 "nbformat": 4,
 "nbformat_minor": 5
}
