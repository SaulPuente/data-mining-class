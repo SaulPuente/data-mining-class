{
 "cells": [
  {
   "cell_type": "code",
   "execution_count": 3,
   "id": "1b6f9fff-d58f-4e2b-a852-1ab690b0b36e",
   "metadata": {},
   "outputs": [],
   "source": [
    "import pandas as pd\n",
    "from tabulate import tabulate\n",
    "import matplotlib.pyplot as plt\n",
    "from typing import Tuple, Dict, List\n",
    "import numpy as np\n",
    "from functools import reduce\n",
    "from scipy.stats import mode"
   ]
  },
  {
   "cell_type": "code",
   "execution_count": 4,
   "id": "1db73f8d-81e7-4ac8-be69-404bc3e8c350",
   "metadata": {},
   "outputs": [
    {
     "data": {
      "text/html": [
       "<div>\n",
       "<style scoped>\n",
       "    .dataframe tbody tr th:only-of-type {\n",
       "        vertical-align: middle;\n",
       "    }\n",
       "\n",
       "    .dataframe tbody tr th {\n",
       "        vertical-align: top;\n",
       "    }\n",
       "\n",
       "    .dataframe thead th {\n",
       "        text-align: right;\n",
       "    }\n",
       "</style>\n",
       "<table border=\"1\" class=\"dataframe\">\n",
       "  <thead>\n",
       "    <tr style=\"text-align: right;\">\n",
       "      <th></th>\n",
       "      <th>Cve_Edo</th>\n",
       "      <th>Cve_Inegi</th>\n",
       "      <th>Cve_Mun</th>\n",
       "      <th>Estado</th>\n",
       "      <th>Municipio</th>\n",
       "      <th>Tarifa</th>\n",
       "      <th>Periodo</th>\n",
       "      <th>Usuarios</th>\n",
       "      <th>Consumo</th>\n",
       "      <th>ISO</th>\n",
       "    </tr>\n",
       "  </thead>\n",
       "  <tbody>\n",
       "    <tr>\n",
       "      <th>0</th>\n",
       "      <td>1</td>\n",
       "      <td>01</td>\n",
       "      <td>001</td>\n",
       "      <td>Aguascalientes</td>\n",
       "      <td>Aguascalientes</td>\n",
       "      <td>01</td>\n",
       "      <td>2010</td>\n",
       "      <td>231727</td>\n",
       "      <td>281228528.0</td>\n",
       "      <td>MX-AGU</td>\n",
       "    </tr>\n",
       "    <tr>\n",
       "      <th>1</th>\n",
       "      <td>1</td>\n",
       "      <td>01</td>\n",
       "      <td>001</td>\n",
       "      <td>Aguascalientes</td>\n",
       "      <td>Aguascalientes</td>\n",
       "      <td>1A</td>\n",
       "      <td>2010</td>\n",
       "      <td>0</td>\n",
       "      <td>0.0</td>\n",
       "      <td>MX-AGU</td>\n",
       "    </tr>\n",
       "    <tr>\n",
       "      <th>2</th>\n",
       "      <td>1</td>\n",
       "      <td>01</td>\n",
       "      <td>001</td>\n",
       "      <td>Aguascalientes</td>\n",
       "      <td>Aguascalientes</td>\n",
       "      <td>1B</td>\n",
       "      <td>2010</td>\n",
       "      <td>0</td>\n",
       "      <td>0.0</td>\n",
       "      <td>MX-AGU</td>\n",
       "    </tr>\n",
       "    <tr>\n",
       "      <th>3</th>\n",
       "      <td>1</td>\n",
       "      <td>01</td>\n",
       "      <td>001</td>\n",
       "      <td>Aguascalientes</td>\n",
       "      <td>Aguascalientes</td>\n",
       "      <td>1C</td>\n",
       "      <td>2010</td>\n",
       "      <td>0</td>\n",
       "      <td>0.0</td>\n",
       "      <td>MX-AGU</td>\n",
       "    </tr>\n",
       "    <tr>\n",
       "      <th>4</th>\n",
       "      <td>1</td>\n",
       "      <td>01</td>\n",
       "      <td>001</td>\n",
       "      <td>Aguascalientes</td>\n",
       "      <td>Aguascalientes</td>\n",
       "      <td>1D</td>\n",
       "      <td>2010</td>\n",
       "      <td>0</td>\n",
       "      <td>0.0</td>\n",
       "      <td>MX-AGU</td>\n",
       "    </tr>\n",
       "  </tbody>\n",
       "</table>\n",
       "</div>"
      ],
      "text/plain": [
       "  Cve_Edo Cve_Inegi Cve_Mun          Estado       Municipio Tarifa  Periodo  \\\n",
       "0       1        01     001  Aguascalientes  Aguascalientes     01     2010   \n",
       "1       1        01     001  Aguascalientes  Aguascalientes     1A     2010   \n",
       "2       1        01     001  Aguascalientes  Aguascalientes     1B     2010   \n",
       "3       1        01     001  Aguascalientes  Aguascalientes     1C     2010   \n",
       "4       1        01     001  Aguascalientes  Aguascalientes     1D     2010   \n",
       "\n",
       "   Usuarios      Consumo     ISO  \n",
       "0    231727  281228528.0  MX-AGU  \n",
       "1         0          0.0  MX-AGU  \n",
       "2         0          0.0  MX-AGU  \n",
       "3         0          0.0  MX-AGU  \n",
       "4         0          0.0  MX-AGU  "
      ]
     },
     "execution_count": 4,
     "metadata": {},
     "output_type": "execute_result"
    }
   ],
   "source": [
    "df_uyc = pd.read_csv(\"data/Usuariosyconsumodeelectricidadpormunicipio_clean.csv\", dtype={\n",
    "    'Cve_Edo': 'string',\n",
    "    'Cve_Inegi': 'string',\n",
    "    'Cve_Mun': 'string',\n",
    "    'Estado': 'string',\n",
    "    'Municipio': 'string',\n",
    "    'Tarifa': 'string',\n",
    "    'Periodo': 'int64',\n",
    "    'Usuarios': 'int64',\n",
    "    'Consumo': 'float64',\n",
    "    'ISO': 'string'\n",
    "})\n",
    "df_uyc.head()"
   ]
  },
  {
   "cell_type": "code",
   "execution_count": 5,
   "id": "3a3caf01",
   "metadata": {},
   "outputs": [
    {
     "data": {
      "text/html": [
       "<div>\n",
       "<style scoped>\n",
       "    .dataframe tbody tr th:only-of-type {\n",
       "        vertical-align: middle;\n",
       "    }\n",
       "\n",
       "    .dataframe tbody tr th {\n",
       "        vertical-align: top;\n",
       "    }\n",
       "\n",
       "    .dataframe thead th {\n",
       "        text-align: right;\n",
       "    }\n",
       "</style>\n",
       "<table border=\"1\" class=\"dataframe\">\n",
       "  <thead>\n",
       "    <tr style=\"text-align: right;\">\n",
       "      <th></th>\n",
       "      <th>estado</th>\n",
       "      <th>municipio</th>\n",
       "      <th>cve_inegi</th>\n",
       "      <th>id_estado</th>\n",
       "      <th>id_municipio</th>\n",
       "      <th>clasif</th>\n",
       "      <th>idh</th>\n",
       "      <th>gdh</th>\n",
       "      <th>tmi</th>\n",
       "      <th>ipca</th>\n",
       "      <th>isal</th>\n",
       "      <th>ieduc</th>\n",
       "      <th>iing</th>\n",
       "    </tr>\n",
       "  </thead>\n",
       "  <tbody>\n",
       "    <tr>\n",
       "      <th>0</th>\n",
       "      <td>Aguascalientes</td>\n",
       "      <td>Aguascalientes</td>\n",
       "      <td>01001</td>\n",
       "      <td>1</td>\n",
       "      <td>1</td>\n",
       "      <td>52</td>\n",
       "      <td>0.804</td>\n",
       "      <td>MUY ALTO</td>\n",
       "      <td>5.8</td>\n",
       "      <td>3498.3</td>\n",
       "      <td>0.965</td>\n",
       "      <td>0.671</td>\n",
       "      <td>0.804</td>\n",
       "    </tr>\n",
       "    <tr>\n",
       "      <th>1</th>\n",
       "      <td>Aguascalientes</td>\n",
       "      <td>Asientos</td>\n",
       "      <td>01002</td>\n",
       "      <td>1</td>\n",
       "      <td>2</td>\n",
       "      <td>1025</td>\n",
       "      <td>0.665</td>\n",
       "      <td>MEDIO</td>\n",
       "      <td>19.4</td>\n",
       "      <td>1427.5</td>\n",
       "      <td>0.850</td>\n",
       "      <td>0.517</td>\n",
       "      <td>0.669</td>\n",
       "    </tr>\n",
       "    <tr>\n",
       "      <th>2</th>\n",
       "      <td>Aguascalientes</td>\n",
       "      <td>Calvillo</td>\n",
       "      <td>01003</td>\n",
       "      <td>1</td>\n",
       "      <td>3</td>\n",
       "      <td>1032</td>\n",
       "      <td>0.664</td>\n",
       "      <td>MEDIO</td>\n",
       "      <td>17.6</td>\n",
       "      <td>1506.4</td>\n",
       "      <td>0.865</td>\n",
       "      <td>0.500</td>\n",
       "      <td>0.677</td>\n",
       "    </tr>\n",
       "    <tr>\n",
       "      <th>3</th>\n",
       "      <td>Aguascalientes</td>\n",
       "      <td>Cosío</td>\n",
       "      <td>01004</td>\n",
       "      <td>1</td>\n",
       "      <td>4</td>\n",
       "      <td>660</td>\n",
       "      <td>0.699</td>\n",
       "      <td>MEDIO</td>\n",
       "      <td>18.3</td>\n",
       "      <td>1835.8</td>\n",
       "      <td>0.859</td>\n",
       "      <td>0.562</td>\n",
       "      <td>0.707</td>\n",
       "    </tr>\n",
       "    <tr>\n",
       "      <th>4</th>\n",
       "      <td>Aguascalientes</td>\n",
       "      <td>Jesús María</td>\n",
       "      <td>01005</td>\n",
       "      <td>1</td>\n",
       "      <td>5</td>\n",
       "      <td>297</td>\n",
       "      <td>0.742</td>\n",
       "      <td>ALTO</td>\n",
       "      <td>12.2</td>\n",
       "      <td>2611.8</td>\n",
       "      <td>0.911</td>\n",
       "      <td>0.590</td>\n",
       "      <td>0.760</td>\n",
       "    </tr>\n",
       "  </tbody>\n",
       "</table>\n",
       "</div>"
      ],
      "text/plain": [
       "           estado       municipio cve_inegi  id_estado  id_municipio clasif  \\\n",
       "0  Aguascalientes  Aguascalientes     01001          1             1     52   \n",
       "1  Aguascalientes        Asientos     01002          1             2   1025   \n",
       "2  Aguascalientes        Calvillo     01003          1             3   1032   \n",
       "3  Aguascalientes           Cosío     01004          1             4    660   \n",
       "4  Aguascalientes     Jesús María     01005          1             5    297   \n",
       "\n",
       "     idh       gdh   tmi    ipca   isal  ieduc   iing  \n",
       "0  0.804  MUY ALTO   5.8  3498.3  0.965  0.671  0.804  \n",
       "1  0.665     MEDIO  19.4  1427.5  0.850  0.517  0.669  \n",
       "2  0.664     MEDIO  17.6  1506.4  0.865  0.500  0.677  \n",
       "3  0.699     MEDIO  18.3  1835.8  0.859  0.562  0.707  \n",
       "4  0.742      ALTO  12.2  2611.8  0.911  0.590  0.760  "
      ]
     },
     "execution_count": 5,
     "metadata": {},
     "output_type": "execute_result"
    }
   ],
   "source": [
    "df_idh = pd.read_csv(\"data/inafed_bd_1699503636_clean.csv\", dtype={\n",
    "    'estado': 'string',\n",
    "    'municipio': 'string',\n",
    "    'cve_inegi': 'string',\n",
    "    'id_estado': 'int64',\n",
    "    'id_municipio': 'int64',\n",
    "    'clasif': 'string',\n",
    "    'idh': 'string',\n",
    "    'gdh': 'string',\n",
    "    'tmi': 'string',\n",
    "    'ipca': 'string',\n",
    "    'isal': 'string',\n",
    "    'ieduc': 'string',\n",
    "    'iing': 'string'\n",
    "})\n",
    "df_idh.head()"
   ]
  },
  {
   "cell_type": "code",
   "execution_count": 6,
   "id": "ffa25a48",
   "metadata": {},
   "outputs": [
    {
     "data": {
      "text/html": [
       "<div>\n",
       "<style scoped>\n",
       "    .dataframe tbody tr th:only-of-type {\n",
       "        vertical-align: middle;\n",
       "    }\n",
       "\n",
       "    .dataframe tbody tr th {\n",
       "        vertical-align: top;\n",
       "    }\n",
       "\n",
       "    .dataframe thead th {\n",
       "        text-align: right;\n",
       "    }\n",
       "</style>\n",
       "<table border=\"1\" class=\"dataframe\">\n",
       "  <thead>\n",
       "    <tr style=\"text-align: right;\">\n",
       "      <th></th>\n",
       "      <th>cve_inegi</th>\n",
       "      <th>Usuarios</th>\n",
       "      <th>Consumo</th>\n",
       "      <th>Periodo</th>\n",
       "    </tr>\n",
       "  </thead>\n",
       "  <tbody>\n",
       "    <tr>\n",
       "      <th>560744</th>\n",
       "      <td>01001</td>\n",
       "      <td>310154</td>\n",
       "      <td>1.408431e+09</td>\n",
       "      <td>2015</td>\n",
       "    </tr>\n",
       "    <tr>\n",
       "      <th>560789</th>\n",
       "      <td>01002</td>\n",
       "      <td>14062</td>\n",
       "      <td>1.476375e+08</td>\n",
       "      <td>2015</td>\n",
       "    </tr>\n",
       "    <tr>\n",
       "      <th>560834</th>\n",
       "      <td>01003</td>\n",
       "      <td>20803</td>\n",
       "      <td>6.910727e+07</td>\n",
       "      <td>2015</td>\n",
       "    </tr>\n",
       "    <tr>\n",
       "      <th>560879</th>\n",
       "      <td>01004</td>\n",
       "      <td>4512</td>\n",
       "      <td>2.425328e+07</td>\n",
       "      <td>2015</td>\n",
       "    </tr>\n",
       "    <tr>\n",
       "      <th>560924</th>\n",
       "      <td>01005</td>\n",
       "      <td>38424</td>\n",
       "      <td>2.377805e+08</td>\n",
       "      <td>2015</td>\n",
       "    </tr>\n",
       "  </tbody>\n",
       "</table>\n",
       "</div>"
      ],
      "text/plain": [
       "       cve_inegi  Usuarios       Consumo  Periodo\n",
       "560744     01001    310154  1.408431e+09     2015\n",
       "560789     01002     14062  1.476375e+08     2015\n",
       "560834     01003     20803  6.910727e+07     2015\n",
       "560879     01004      4512  2.425328e+07     2015\n",
       "560924     01005     38424  2.377805e+08     2015"
      ]
     },
     "execution_count": 6,
     "metadata": {},
     "output_type": "execute_result"
    }
   ],
   "source": [
    "df_uyc['cve_inegi'] = df_uyc['Cve_Inegi'] + df_uyc['Cve_Mun']\n",
    "df_uyc2 = df_uyc[['cve_inegi', 'Usuarios', 'Consumo', 'Periodo']].loc[(df_uyc['Periodo'] == 2015) & (df_uyc['Tarifa'] == 'TOTAL')]\n",
    "df_uyc2.head()"
   ]
  },
  {
   "cell_type": "code",
   "execution_count": 7,
   "id": "99c2c1c7",
   "metadata": {},
   "outputs": [
    {
     "data": {
      "text/html": [
       "<div>\n",
       "<style scoped>\n",
       "    .dataframe tbody tr th:only-of-type {\n",
       "        vertical-align: middle;\n",
       "    }\n",
       "\n",
       "    .dataframe tbody tr th {\n",
       "        vertical-align: top;\n",
       "    }\n",
       "\n",
       "    .dataframe thead th {\n",
       "        text-align: right;\n",
       "    }\n",
       "</style>\n",
       "<table border=\"1\" class=\"dataframe\">\n",
       "  <thead>\n",
       "    <tr style=\"text-align: right;\">\n",
       "      <th></th>\n",
       "      <th>Usuarios</th>\n",
       "      <th>Consumo</th>\n",
       "      <th>gdh</th>\n",
       "    </tr>\n",
       "  </thead>\n",
       "  <tbody>\n",
       "    <tr>\n",
       "      <th>0</th>\n",
       "      <td>310154.0</td>\n",
       "      <td>1.408431e+09</td>\n",
       "      <td>MUY ALTO</td>\n",
       "    </tr>\n",
       "    <tr>\n",
       "      <th>1</th>\n",
       "      <td>14062.0</td>\n",
       "      <td>1.476375e+08</td>\n",
       "      <td>MEDIO</td>\n",
       "    </tr>\n",
       "    <tr>\n",
       "      <th>2</th>\n",
       "      <td>20803.0</td>\n",
       "      <td>6.910727e+07</td>\n",
       "      <td>MEDIO</td>\n",
       "    </tr>\n",
       "    <tr>\n",
       "      <th>3</th>\n",
       "      <td>4512.0</td>\n",
       "      <td>2.425328e+07</td>\n",
       "      <td>MEDIO</td>\n",
       "    </tr>\n",
       "    <tr>\n",
       "      <th>4</th>\n",
       "      <td>38424.0</td>\n",
       "      <td>2.377805e+08</td>\n",
       "      <td>ALTO</td>\n",
       "    </tr>\n",
       "  </tbody>\n",
       "</table>\n",
       "</div>"
      ],
      "text/plain": [
       "   Usuarios       Consumo       gdh\n",
       "0  310154.0  1.408431e+09  MUY ALTO\n",
       "1   14062.0  1.476375e+08     MEDIO\n",
       "2   20803.0  6.910727e+07     MEDIO\n",
       "3    4512.0  2.425328e+07     MEDIO\n",
       "4   38424.0  2.377805e+08      ALTO"
      ]
     },
     "execution_count": 7,
     "metadata": {},
     "output_type": "execute_result"
    }
   ],
   "source": [
    "df = pd.merge(df_idh, df_uyc2, left_on='cve_inegi', right_on='cve_inegi', how='left')\n",
    "df = df[['Usuarios', 'Consumo', 'gdh']]\n",
    "df['gdh'] = df['gdh'].str.upper()\n",
    "df.head()"
   ]
  },
  {
   "cell_type": "code",
   "execution_count": 8,
   "id": "0ea326ef-7f33-440e-a5a0-7fd7105ff8fe",
   "metadata": {},
   "outputs": [],
   "source": [
    "def print_tabulate(df: pd.DataFrame):\n",
    "    print(tabulate(df, headers=df.columns, tablefmt=\"orgtbl\"))"
   ]
  },
  {
   "cell_type": "code",
   "execution_count": 9,
   "id": "e03cfa92-79ee-4803-b12f-4070aeef78b7",
   "metadata": {},
   "outputs": [],
   "source": [
    "def normalize_distribution(dist: np.array, n: int) -> np.array:\n",
    "    b = dist - min(dist) + 0.000001\n",
    "    c = (b / np.sum(b)) * n\n",
    "    return np.round(c)"
   ]
  },
  {
   "cell_type": "code",
   "execution_count": 10,
   "id": "0a444b22-a109-4637-9f2d-8d13c115548d",
   "metadata": {},
   "outputs": [],
   "source": [
    "def create_distribution(mean: float, size: int) -> pd.Series:\n",
    "    return normalize_distribution(np.random.standard_normal(size), mean * size)"
   ]
  },
  {
   "cell_type": "code",
   "execution_count": 11,
   "id": "ee87cce5-9a84-413c-848f-325f7203ad13",
   "metadata": {},
   "outputs": [],
   "source": [
    "def generate_df(means: List[Tuple[float, float, str]], n: int) -> pd.DataFrame:\n",
    "    lists = [\n",
    "        (create_distribution(_x, n), create_distribution(_y, n), np.repeat(_l, n))\n",
    "        for _x, _y, _l in means\n",
    "    ]\n",
    "    x = np.array([])\n",
    "    y = np.array([])\n",
    "    labels = np.array([])\n",
    "    for _x, _y, _l in lists:\n",
    "        x = np.concatenate((x, _x), axis=None)\n",
    "        y = np.concatenate((y, _y))\n",
    "        labels = np.concatenate((labels, _l))\n",
    "    return pd.DataFrame({\"x\": x, \"y\": y, \"label\": labels})"
   ]
  },
  {
   "cell_type": "code",
   "execution_count": 12,
   "id": "a44c08df-f209-4a36-a66b-34754bc1f8a7",
   "metadata": {},
   "outputs": [],
   "source": [
    "def get_cmap(n, name=\"hsv\"):\n",
    "    \"\"\"Returns a function that maps each index in 0, 1, ..., n-1 to a distinct\n",
    "    RGB color; the keyword argument name must be a standard mpl colormap name.\"\"\"\n",
    "    return plt.cm.get_cmap(name, n)"
   ]
  },
  {
   "cell_type": "code",
   "execution_count": 33,
   "id": "74f6ad48-db58-4053-a13b-4f2397408adb",
   "metadata": {},
   "outputs": [],
   "source": [
    "def scatter_group_by(\n",
    "    file_path: str, df: pd.DataFrame, x_column: str, y_column: str, label_column: str\n",
    "):\n",
    "    fig, ax = plt.subplots()\n",
    "    labels = pd.unique(df[label_column])\n",
    "    cmap = get_cmap(len(labels) + 1)\n",
    "    for i, label in enumerate(labels):\n",
    "        filter_df = df.query(f\"{label_column} == '{label}'\")\n",
    "        ax.scatter(filter_df[x_column], filter_df[y_column], label=label, color=cmap(i))\n",
    "    ax.legend()\n",
    "    plt.savefig(file_path)\n",
    "    plt.show()\n",
    "    plt.close()"
   ]
  },
  {
   "cell_type": "code",
   "execution_count": 14,
   "id": "32681afa-dddf-49d5-9d4a-4a8ffc6743e0",
   "metadata": {},
   "outputs": [],
   "source": [
    "def euclidean_distance(p_1: np.array, p_2: np.array) -> float:\n",
    "    return np.sqrt(np.sum((p_2 - p_1) ** 2))"
   ]
  },
  {
   "cell_type": "code",
   "execution_count": 22,
   "id": "61037995-136a-4f16-8dce-97f6b7448e8d",
   "metadata": {},
   "outputs": [],
   "source": [
    "def k_nearest_neightbors(\n",
    "    points: List[np.array], labels: np.array, input_data: List[np.array], k: int\n",
    "):\n",
    "    input_distances = [\n",
    "        [euclidean_distance(input_point, point) for point in points]\n",
    "        for input_point in input_data\n",
    "    ]\n",
    "    points_k_nearest = [\n",
    "        np.argsort(input_point_dist)[:k] for input_point_dist in input_distances\n",
    "    ]\n",
    "    \n",
    "    return [\n",
    "        mode([labels[index] for index in point_nearest])\n",
    "        for point_nearest in points_k_nearest\n",
    "    ]"
   ]
  },
  {
   "cell_type": "code",
   "execution_count": 34,
   "id": "5a270f3a-10ff-4b7c-b73d-6476bc6d63ba",
   "metadata": {},
   "outputs": [
    {
     "data": {
      "image/png": "[encoded data removed]",
      "text/plain": [
       "<Figure size 432x288 with 1 Axes>"
      ]
     },
     "metadata": {
      "needs_background": "light"
     },
     "output_type": "display_data"
    }
   ],
   "source": [
    "#groups = [(20, 20, \"grupo1\"), (80, 40, \"grupo2\"), (200, 200, \"grupo3\")]\n",
    "#df = generate_df(groups, 50)\n",
    "scatter_group_by(\"images/groups.png\", df, \"Usuarios\", \"Consumo\", \"gdh\")"
   ]
  },
  {
   "cell_type": "code",
   "execution_count": 29,
   "id": "50ed42ac",
   "metadata": {},
   "outputs": [],
   "source": [
    "a = [x[0][0] for x in kn]"
   ]
  },
  {
   "cell_type": "code",
   "execution_count": 35,
   "id": "961525cf",
   "metadata": {},
   "outputs": [],
   "source": [
    "list_t = [\n",
    "    (np.array(tuples[0:1]), tuples[2])\n",
    "    for tuples in df.itertuples(index=False, name=None)\n",
    "]\n",
    "points = [point for point, _ in list_t]\n",
    "labels = [label for _, label in list_t]\n",
    "\n",
    "usuarios = df_uyc.loc[(df_uyc['Tarifa'] == 'TOTAL') & (df_uyc['Periodo'] == 2017)]['Usuarios'].tolist()\n",
    "consumo = df_uyc.loc[(df_uyc['Tarifa'] == 'TOTAL') & (df_uyc['Periodo'] == 2017)]['Consumo'].tolist()\n",
    "\n",
    "input_data = [np.array([x, y]) for x, y in zip(usuarios, consumo)]\n",
    "\n",
    "kn = k_nearest_neightbors(\n",
    "    points,\n",
    "    labels,\n",
    "    input_data,\n",
    "    5,\n",
    ")"
   ]
  },
  {
   "cell_type": "code",
   "execution_count": 42,
   "id": "9c50039f",
   "metadata": {},
   "outputs": [],
   "source": [
    "dict_results = {\n",
    "    \"usuarios\": usuarios,\n",
    "    \"consumo\": consumo,\n",
    "    \"gdh\": [x[0][0] for x in kn]\n",
    "}\n",
    "df_results = pd.DataFrame.from_dict(dict_results)"
   ]
  },
  {
   "cell_type": "code",
   "execution_count": 43,
   "id": "cc95d2ab",
   "metadata": {},
   "outputs": [
    {
     "data": {
      "image/png": "[encoded data removed]",
      "text/plain": [
       "<Figure size 432x288 with 1 Axes>"
      ]
     },
     "metadata": {
      "needs_background": "light"
     },
     "output_type": "display_data"
    }
   ],
   "source": [
    "for gdh in df_results['gdh'].unique():\n",
    "    xp = df_results.loc[(df_results[\"gdh\"] == gdh)][\"usuarios\"]\n",
    "    yp = df_results.loc[(df_results[\"gdh\"] == gdh)][\"consumo\"]\n",
    "    plt.scatter(xp, yp)\n",
    "plt.savefig(\"images/knn.png\")\n",
    "plt.show()\n",
    "plt.close()"
   ]
  },
  {
   "cell_type": "code",
   "execution_count": 44,
   "id": "40e9664a",
   "metadata": {},
   "outputs": [
    {
     "data": {
      "image/png": "[encoded data removed]",
      "text/plain": [
       "<Figure size 432x288 with 1 Axes>"
      ]
     },
     "metadata": {
      "needs_background": "light"
     },
     "output_type": "display_data"
    }
   ],
   "source": [
    "for gdh in df_results['gdh'].unique():\n",
    "    xp = df_results.loc[(df_results[\"gdh\"] == gdh) & (df_results[\"consumo\"] < 2*10**11)][\"usuarios\"]\n",
    "    yp = df_results.loc[(df_results[\"gdh\"] == gdh) & (df_results[\"consumo\"] < 2*10**11)][\"consumo\"]\n",
    "    plt.scatter(xp, yp)\n",
    "plt.savefig(\"images/knn.png\")\n",
    "plt.show()\n",
    "plt.close()"
   ]
  },
  {
   "cell_type": "code",
   "execution_count": 46,
   "id": "67cd0895",
   "metadata": {},
   "outputs": [
    {
     "data": {
      "image/png": "[encoded data removed]",
      "text/plain": [
       "<Figure size 432x288 with 1 Axes>"
      ]
     },
     "metadata": {
      "needs_background": "light"
     },
     "output_type": "display_data"
    }
   ],
   "source": [
    "for gdh in df_results['gdh'].unique():\n",
    "    xp = df_results.loc[(df_results[\"gdh\"] == gdh) & (df_results[\"usuarios\"] < 10**6)][\"usuarios\"]\n",
    "    yp = df_results.loc[(df_results[\"gdh\"] == gdh) & (df_results[\"usuarios\"] < 10**6)][\"consumo\"]\n",
    "    plt.scatter(xp, yp)\n",
    "plt.savefig(\"images/knn.png\")\n",
    "plt.show()\n",
    "plt.close()"
   ]
  },
  {
   "cell_type": "code",
   "execution_count": null,
   "id": "c0141cc1",
   "metadata": {},
   "outputs": [],
   "source": []
  }
 ],
 "metadata": {
  "kernelspec": {
   "display_name": "Python 3 (ipykernel)",
   "language": "python",
   "name": "python3"
  },
  "language_info": {
   "codemirror_mode": {
    "name": "ipython",
    "version": 3
   },
   "file_extension": ".py",
   "mimetype": "text/x-python",
   "name": "python",
   "nbconvert_exporter": "python",
   "pygments_lexer": "ipython3",
   "version": "3.8.8"
  }
 },
 "nbformat": 4,
 "nbformat_minor": 5
}
